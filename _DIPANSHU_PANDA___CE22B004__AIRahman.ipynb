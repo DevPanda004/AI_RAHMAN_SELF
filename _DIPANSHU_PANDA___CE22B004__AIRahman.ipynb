{
  "nbformat": 4,
  "nbformat_minor": 0,
  "metadata": {
    "colab": {
      "provenance": []
    },
    "kernelspec": {
      "name": "python3",
      "display_name": "Python 3"
    },
    "language_info": {
      "name": "python"
    },
    "accelerator": "GPU"
  },
  "cells": [
    {
      "cell_type": "code",
      "source": [],
      "metadata": {
        "id": "HGFJ1pQsP8VN"
      },
      "execution_count": null,
      "outputs": []
    },
    {
      "cell_type": "markdown",
      "source": [
        "# Setup"
      ],
      "metadata": {
        "id": "aVmsGWUFd-tP"
      }
    },
    {
      "cell_type": "code",
      "source": [
        "from google.colab import drive\n",
        "drive.mount('/content/drive')"
      ],
      "metadata": {
        "id": "VMJ4av3_YGjM",
        "outputId": "35d66824-3e9e-46cc-9837-bde169ea565f",
        "colab": {
          "base_uri": "https://localhost:8080/",
          "height": 315
        }
      },
      "execution_count": null,
      "outputs": [
        {
          "output_type": "error",
          "ename": "MessageError",
          "evalue": "Error: credential propagation was unsuccessful",
          "traceback": [
            "\u001b[0;31m---------------------------------------------------------------------------\u001b[0m",
            "\u001b[0;31mMessageError\u001b[0m                              Traceback (most recent call last)",
            "\u001b[0;32m<ipython-input-2-d5df0069828e>\u001b[0m in \u001b[0;36m<cell line: 2>\u001b[0;34m()\u001b[0m\n\u001b[1;32m      1\u001b[0m \u001b[0;32mfrom\u001b[0m \u001b[0mgoogle\u001b[0m\u001b[0;34m.\u001b[0m\u001b[0mcolab\u001b[0m \u001b[0;32mimport\u001b[0m \u001b[0mdrive\u001b[0m\u001b[0;34m\u001b[0m\u001b[0;34m\u001b[0m\u001b[0m\n\u001b[0;32m----> 2\u001b[0;31m \u001b[0mdrive\u001b[0m\u001b[0;34m.\u001b[0m\u001b[0mmount\u001b[0m\u001b[0;34m(\u001b[0m\u001b[0;34m'/content/drive'\u001b[0m\u001b[0;34m)\u001b[0m\u001b[0;34m\u001b[0m\u001b[0;34m\u001b[0m\u001b[0m\n\u001b[0m",
            "\u001b[0;32m/usr/local/lib/python3.10/dist-packages/google/colab/drive.py\u001b[0m in \u001b[0;36mmount\u001b[0;34m(mountpoint, force_remount, timeout_ms, readonly)\u001b[0m\n\u001b[1;32m     98\u001b[0m \u001b[0;32mdef\u001b[0m \u001b[0mmount\u001b[0m\u001b[0;34m(\u001b[0m\u001b[0mmountpoint\u001b[0m\u001b[0;34m,\u001b[0m \u001b[0mforce_remount\u001b[0m\u001b[0;34m=\u001b[0m\u001b[0;32mFalse\u001b[0m\u001b[0;34m,\u001b[0m \u001b[0mtimeout_ms\u001b[0m\u001b[0;34m=\u001b[0m\u001b[0;36m120000\u001b[0m\u001b[0;34m,\u001b[0m \u001b[0mreadonly\u001b[0m\u001b[0;34m=\u001b[0m\u001b[0;32mFalse\u001b[0m\u001b[0;34m)\u001b[0m\u001b[0;34m:\u001b[0m\u001b[0;34m\u001b[0m\u001b[0;34m\u001b[0m\u001b[0m\n\u001b[1;32m     99\u001b[0m   \u001b[0;34m\"\"\"Mount your Google Drive at the specified mountpoint path.\"\"\"\u001b[0m\u001b[0;34m\u001b[0m\u001b[0;34m\u001b[0m\u001b[0m\n\u001b[0;32m--> 100\u001b[0;31m   return _mount(\n\u001b[0m\u001b[1;32m    101\u001b[0m       \u001b[0mmountpoint\u001b[0m\u001b[0;34m,\u001b[0m\u001b[0;34m\u001b[0m\u001b[0;34m\u001b[0m\u001b[0m\n\u001b[1;32m    102\u001b[0m       \u001b[0mforce_remount\u001b[0m\u001b[0;34m=\u001b[0m\u001b[0mforce_remount\u001b[0m\u001b[0;34m,\u001b[0m\u001b[0;34m\u001b[0m\u001b[0;34m\u001b[0m\u001b[0m\n",
            "\u001b[0;32m/usr/local/lib/python3.10/dist-packages/google/colab/drive.py\u001b[0m in \u001b[0;36m_mount\u001b[0;34m(mountpoint, force_remount, timeout_ms, ephemeral, readonly)\u001b[0m\n\u001b[1;32m    131\u001b[0m   )\n\u001b[1;32m    132\u001b[0m   \u001b[0;32mif\u001b[0m \u001b[0mephemeral\u001b[0m\u001b[0;34m:\u001b[0m\u001b[0;34m\u001b[0m\u001b[0;34m\u001b[0m\u001b[0m\n\u001b[0;32m--> 133\u001b[0;31m     _message.blocking_request(\n\u001b[0m\u001b[1;32m    134\u001b[0m         \u001b[0;34m'request_auth'\u001b[0m\u001b[0;34m,\u001b[0m \u001b[0mrequest\u001b[0m\u001b[0;34m=\u001b[0m\u001b[0;34m{\u001b[0m\u001b[0;34m'authType'\u001b[0m\u001b[0;34m:\u001b[0m \u001b[0;34m'dfs_ephemeral'\u001b[0m\u001b[0;34m}\u001b[0m\u001b[0;34m,\u001b[0m \u001b[0mtimeout_sec\u001b[0m\u001b[0;34m=\u001b[0m\u001b[0;32mNone\u001b[0m\u001b[0;34m\u001b[0m\u001b[0;34m\u001b[0m\u001b[0m\n\u001b[1;32m    135\u001b[0m     )\n",
            "\u001b[0;32m/usr/local/lib/python3.10/dist-packages/google/colab/_message.py\u001b[0m in \u001b[0;36mblocking_request\u001b[0;34m(request_type, request, timeout_sec, parent)\u001b[0m\n\u001b[1;32m    174\u001b[0m       \u001b[0mrequest_type\u001b[0m\u001b[0;34m,\u001b[0m \u001b[0mrequest\u001b[0m\u001b[0;34m,\u001b[0m \u001b[0mparent\u001b[0m\u001b[0;34m=\u001b[0m\u001b[0mparent\u001b[0m\u001b[0;34m,\u001b[0m \u001b[0mexpect_reply\u001b[0m\u001b[0;34m=\u001b[0m\u001b[0;32mTrue\u001b[0m\u001b[0;34m\u001b[0m\u001b[0;34m\u001b[0m\u001b[0m\n\u001b[1;32m    175\u001b[0m   )\n\u001b[0;32m--> 176\u001b[0;31m   \u001b[0;32mreturn\u001b[0m \u001b[0mread_reply_from_input\u001b[0m\u001b[0;34m(\u001b[0m\u001b[0mrequest_id\u001b[0m\u001b[0;34m,\u001b[0m \u001b[0mtimeout_sec\u001b[0m\u001b[0;34m)\u001b[0m\u001b[0;34m\u001b[0m\u001b[0;34m\u001b[0m\u001b[0m\n\u001b[0m",
            "\u001b[0;32m/usr/local/lib/python3.10/dist-packages/google/colab/_message.py\u001b[0m in \u001b[0;36mread_reply_from_input\u001b[0;34m(message_id, timeout_sec)\u001b[0m\n\u001b[1;32m    101\u001b[0m     ):\n\u001b[1;32m    102\u001b[0m       \u001b[0;32mif\u001b[0m \u001b[0;34m'error'\u001b[0m \u001b[0;32min\u001b[0m \u001b[0mreply\u001b[0m\u001b[0;34m:\u001b[0m\u001b[0;34m\u001b[0m\u001b[0;34m\u001b[0m\u001b[0m\n\u001b[0;32m--> 103\u001b[0;31m         \u001b[0;32mraise\u001b[0m \u001b[0mMessageError\u001b[0m\u001b[0;34m(\u001b[0m\u001b[0mreply\u001b[0m\u001b[0;34m[\u001b[0m\u001b[0;34m'error'\u001b[0m\u001b[0;34m]\u001b[0m\u001b[0;34m)\u001b[0m\u001b[0;34m\u001b[0m\u001b[0;34m\u001b[0m\u001b[0m\n\u001b[0m\u001b[1;32m    104\u001b[0m       \u001b[0;32mreturn\u001b[0m \u001b[0mreply\u001b[0m\u001b[0;34m.\u001b[0m\u001b[0mget\u001b[0m\u001b[0;34m(\u001b[0m\u001b[0;34m'data'\u001b[0m\u001b[0;34m,\u001b[0m \u001b[0;32mNone\u001b[0m\u001b[0;34m)\u001b[0m\u001b[0;34m\u001b[0m\u001b[0;34m\u001b[0m\u001b[0m\n\u001b[1;32m    105\u001b[0m \u001b[0;34m\u001b[0m\u001b[0m\n",
            "\u001b[0;31mMessageError\u001b[0m: Error: credential propagation was unsuccessful"
          ]
        }
      ]
    },
    {
      "cell_type": "code",
      "source": [
        "from IPython.display import clear_output\n",
        "\n",
        "!pip3 install pyprind\n",
        "\n",
        "clear_output()"
      ],
      "metadata": {
        "id": "hUT0FSfTbvoc"
      },
      "execution_count": null,
      "outputs": []
    },
    {
      "cell_type": "markdown",
      "source": [
        "# Instructions\n",
        "\n",
        "* Clone the notebook to your drive.\n",
        "* The notebook has to be submitted in the form of a link giving us **view access**. Share this link in your application.\n",
        "\n",
        "* If you still have any queries, you can reach out to the [core team](https://www.notion.so/Club-Contacts-70a4823e0ae34f35a0aa5d479e449915)\n",
        "\n"
      ],
      "metadata": {
        "id": "q3APxWObeA_c"
      }
    },
    {
      "cell_type": "markdown",
      "source": [
        "# Common Technical Questionnaire\n"
      ],
      "metadata": {
        "id": "h0ojuzzfedsb"
      }
    },
    {
      "cell_type": "markdown",
      "source": [
        "### Question 1\n",
        "\n",
        "Supervised learning is a type of machine learning where the inputs and outputs are mapped through\n",
        "a family of equations, the machine learning model essentially picks the right curve to fit the data.\n",
        "Quantile Regression is a type of supervised learning technique used in statistics and economics. One\n",
        "advantage of quantile regression relative to ordinary least squares regression is that the quantile\n",
        "regression estimates are more robust against outliers in the response measurements.\n",
        "\n",
        "QuantileLossτ (y, ˆy) =\n",
        "{\n",
        "\n",
        "                           τ · (y − ˆy) if y > ˆy\n",
        "\n",
        "                          (1 − τ ) · (ˆy − y) if y ≤ ˆy\n",
        "}\n",
        "\n",
        "where τ is Quantile whose value lies between 0 and 1.\n",
        "Please use this template provided and make changes accordingly for this question alone.\n",
        "Implement a simple Neural Network consisting of 4 nodes, one hidden layer consisting of 5 nodes\n",
        "and output layer consisting of two nodes. Perform quantile regression on the model and observe\n",
        "the loss.\n",
        "**Bonus: Play around with the value of τ to find what value achieves convergence quicker.**\n",
        "\n"
      ],
      "metadata": {
        "id": "IFnXRXAWVSkZ"
      }
    },
    {
      "cell_type": "markdown",
      "source": [
        "An example implementation of a simple manual neural network is provided. You may use this as inspiration to complete the task at hand."
      ],
      "metadata": {
        "id": "7bKBykeUZtMq"
      }
    },
    {
      "cell_type": "code",
      "source": [
        "# Imports\n",
        "\n",
        "import torch\n",
        "import numpy as np"
      ],
      "metadata": {
        "id": "y5YhkW3jE58O"
      },
      "execution_count": null,
      "outputs": []
    },
    {
      "cell_type": "code",
      "source": [
        "# Initializing the Parameters and the Variables\n",
        "# y = a*x + b\n",
        "\n",
        "x = torch.rand((2, 4), requires_grad=False)\n",
        "y = torch.rand((2, 2), requires_grad=False)\n",
        "\n",
        "a0 = torch.rand((4, 5), requires_grad=True)     #For the hidden layer\n",
        "b0 = torch.rand((2, 5), requires_grad=True)\n",
        "\n",
        "a1 = torch.rand((5, 2), requires_grad=True)     #For the output layer.    Fill in the dimensions appropriately\n",
        "b1 = torch.rand((2, 2), requires_grad=True)\n",
        "\n",
        "# Forward Pass 1\n",
        "y_1 = x@a0+ b0\n",
        "y_pred1=y_1@a1+b1                                      #Fill in the matrix multiplication equation\n",
        "\n",
        "quantile=0.2 #Initialising quantile value\n",
        "\n",
        "def loss_function(output, target, quantile):\n",
        "  loss= output-target\n",
        "  loss = torch.max((quantile - 1) * loss, quantile * loss)\n",
        "                       #Fill the loss function here\n",
        "  return torch.abs(loss).mean() #Return mean loss\n",
        "\n",
        "# Computing Loss\n",
        "loss = loss_function(y_pred1, y, quantile)\n",
        "print(loss.item())\n",
        "\n",
        "# Back Propogation\n",
        "loss.backward()\n",
        "\n",
        "# Updating Gradients\n",
        "with torch.no_grad():\n",
        "    a0 = a0- 0.01*a0.grad\n",
        "    b0 = b0- 0.01*b0.grad\n",
        "    a1 = a1- 0.01*a1.grad\n",
        "    b1 = b1- 0.01*b1.grad\n",
        "a0.requires_grad_(True)  #Initialising the requires_grad=True after gradient descent\n",
        "b0.requires_grad_(True)\n",
        "a1.requires_grad_(True)\n",
        "b1.requires_grad_(True)\n",
        "\n",
        "# Forward Pass 2\n",
        "y_2 = x@a0+ b0\n",
        "y_pred2= y_2@a1+b1                                 #Fill in the matrix multiplication equation\n",
        "\n",
        "# Computing Loss\n",
        "loss = loss_function(y_pred2, y, quantile)\n",
        "print(loss.item())\n",
        "loss.backward()\n",
        "\n",
        "# Updating Gradients\n",
        "with torch.no_grad():\n",
        "    a0 = a0 - 0.01*a0.grad\n",
        "    b0 = b0 - 0.01*b0.grad\n",
        "    a1 = a1 - 0.01*a1.grad\n",
        "    b1 = b1 - 0.01*b1.grad\n",
        "\n",
        "\n",
        "# Forward Pass 3\n",
        "y_3 = x@a0+ b0                     #Fill in the matrix multiplication equation\n",
        "y_pred3= y_3@a1+b1\n",
        "\n",
        "# Computing Loss\n",
        "loss = loss_function(y_pred3, y, quantile)\n",
        "print(loss.item())"
      ],
      "metadata": {
        "id": "XnVdvfk-Zsyr",
        "outputId": "c74cf13f-a0fd-48ba-fa24-9b2fc9233ff5",
        "colab": {
          "base_uri": "https://localhost:8080/"
        }
      },
      "execution_count": null,
      "outputs": [
        {
          "output_type": "stream",
          "name": "stdout",
          "text": [
            "0.6473780274391174\n",
            "0.6447594165802002\n",
            "0.6421489119529724\n"
          ]
        }
      ]
    },
    {
      "cell_type": "code",
      "source": [
        "#Playing around the quantile value\n",
        "import torch\n",
        "\n",
        "# Define your data and model parameters\n",
        "x = torch.rand((2, 4), requires_grad=False)\n",
        "y = torch.rand((2, 2), requires_grad=False)\n",
        "\n",
        "a0 = torch.rand((4, 5), requires_grad=True)     # For the hidden layer\n",
        "b0 = torch.rand((2, 5), requires_grad=True)\n",
        "\n",
        "a1 = torch.rand((5, 2), requires_grad=True)     # For the output layer. Fill in the dimensions appropriately\n",
        "b1 = torch.rand((2, 2), requires_grad=True)\n",
        "\n",
        "learning_rate = 0.01\n",
        "max_iterations = 1000\n",
        "quantile_values = [i/100 for i in range(1,100)]  # Tau (Quantile) values to search over\n",
        "\n",
        "\n",
        "threshold_loss = 0.000001 # Threshold for convergence\n",
        "convergence_iters = {}    #Dictionary mapping quantile_value-> iterations to converge\n",
        "\n",
        "# Grid search over tau values\n",
        "for quantile in quantile_values:\n",
        "    losses = [] #list of losses for each quantile\n",
        "    for i in range(max_iterations):\n",
        "        # Forward Pass\n",
        "        y_ = x@a0+ b0\n",
        "        y_pred = y_ @ a1 + b1         # Fill in the matrix multiplication equation\n",
        "\n",
        "        # Loss Function (Quantile Regression)\n",
        "        loss = loss_function(y_pred, y, quantile)\n",
        "        losses.append(loss.item())\n",
        "\n",
        "        # Check for convergence\n",
        "        if i > 0 and abs(losses[-1] - losses[-2]) < threshold_loss: #Check if difference between loss of current iteration and loss of previous iteration is less than convergence threshold\n",
        "            convergence_iters[quantile] = i\n",
        "            break\n",
        "\n",
        "        # Back Propagation\n",
        "        loss.backward()\n",
        "\n",
        "        # Updating Gradients\n",
        "        with torch.no_grad():\n",
        "            a0 = a0- 0.01*a0.grad\n",
        "            b0 = b0- 0.01*b0.grad\n",
        "            a1 = a1- 0.01*a1.grad\n",
        "            b1 = b1- 0.01*b1.grad\n",
        "        a0.requires_grad_(True)\n",
        "        b0.requires_grad_(True)\n",
        "        a1.requires_grad_(True)\n",
        "        b1.requires_grad_(True)\n",
        "\n",
        "# Display convergence iterations for each quantile value\n",
        "convergence_iters=sorted(convergence_iters.items(), key=lambda x: x[1])\n",
        "for quantile, iters in convergence_iters:\n",
        "    print(f\" Quantile value: {quantile}, Convergence iterations: {iters}\")\n"
      ],
      "metadata": {
        "colab": {
          "base_uri": "https://localhost:8080/"
        },
        "id": "pPVfmhtfW5V2",
        "outputId": "7316e28d-9f99-4d3c-a12d-8ac058a2779c"
      },
      "execution_count": null,
      "outputs": [
        {
          "output_type": "stream",
          "name": "stdout",
          "text": [
            " Quantile value: 0.12, Convergence iterations: 7\n",
            " Quantile value: 0.9, Convergence iterations: 8\n",
            " Quantile value: 0.94, Convergence iterations: 11\n",
            " Quantile value: 0.63, Convergence iterations: 20\n",
            " Quantile value: 0.65, Convergence iterations: 20\n",
            " Quantile value: 0.57, Convergence iterations: 25\n",
            " Quantile value: 0.22, Convergence iterations: 29\n",
            " Quantile value: 0.05, Convergence iterations: 86\n",
            " Quantile value: 0.7, Convergence iterations: 103\n",
            " Quantile value: 0.85, Convergence iterations: 126\n",
            " Quantile value: 0.83, Convergence iterations: 161\n",
            " Quantile value: 0.79, Convergence iterations: 168\n",
            " Quantile value: 0.97, Convergence iterations: 174\n",
            " Quantile value: 0.73, Convergence iterations: 175\n",
            " Quantile value: 0.96, Convergence iterations: 198\n",
            " Quantile value: 0.91, Convergence iterations: 202\n",
            " Quantile value: 0.71, Convergence iterations: 223\n",
            " Quantile value: 0.67, Convergence iterations: 276\n",
            " Quantile value: 0.69, Convergence iterations: 281\n",
            " Quantile value: 0.15, Convergence iterations: 311\n",
            " Quantile value: 0.76, Convergence iterations: 331\n",
            " Quantile value: 0.72, Convergence iterations: 334\n",
            " Quantile value: 0.89, Convergence iterations: 351\n",
            " Quantile value: 0.06, Convergence iterations: 352\n",
            " Quantile value: 0.92, Convergence iterations: 410\n",
            " Quantile value: 0.99, Convergence iterations: 441\n",
            " Quantile value: 0.32, Convergence iterations: 494\n",
            " Quantile value: 0.82, Convergence iterations: 495\n",
            " Quantile value: 0.18, Convergence iterations: 505\n",
            " Quantile value: 0.93, Convergence iterations: 569\n",
            " Quantile value: 0.98, Convergence iterations: 590\n",
            " Quantile value: 0.34, Convergence iterations: 592\n",
            " Quantile value: 0.1, Convergence iterations: 607\n",
            " Quantile value: 0.61, Convergence iterations: 609\n",
            " Quantile value: 0.44, Convergence iterations: 622\n",
            " Quantile value: 0.95, Convergence iterations: 626\n",
            " Quantile value: 0.2, Convergence iterations: 685\n",
            " Quantile value: 0.75, Convergence iterations: 704\n",
            " Quantile value: 0.38, Convergence iterations: 710\n",
            " Quantile value: 0.86, Convergence iterations: 718\n",
            " Quantile value: 0.31, Convergence iterations: 787\n",
            " Quantile value: 0.27, Convergence iterations: 793\n",
            " Quantile value: 0.42, Convergence iterations: 796\n",
            " Quantile value: 0.28, Convergence iterations: 827\n",
            " Quantile value: 0.39, Convergence iterations: 875\n",
            " Quantile value: 0.87, Convergence iterations: 923\n",
            " Quantile value: 0.09, Convergence iterations: 938\n"
          ]
        }
      ]
    },
    {
      "cell_type": "markdown",
      "source": [
        "---"
      ],
      "metadata": {
        "id": "izhl-9Wta_uu"
      }
    }
  ]
}