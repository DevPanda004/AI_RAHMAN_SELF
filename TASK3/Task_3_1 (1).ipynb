{
  "nbformat": 4,
  "nbformat_minor": 0,
  "metadata": {
    "colab": {
      "provenance": []
    },
    "kernelspec": {
      "name": "python3",
      "display_name": "Python 3"
    },
    "language_info": {
      "name": "python"
    }
  },
  "cells": [
    {
      "cell_type": "code",
      "execution_count": null,
      "metadata": {
        "id": "-UEZKot-yuXI"
      },
      "outputs": [],
      "source": [
        "# Step 1: Setup and Imports\n",
        "import torch\n",
        "import torch.nn as nn\n",
        "import torch.optim as optim\n",
        "import torchvision\n",
        "import torchvision.transforms as transforms\n",
        "from torch.utils.data import DataLoader"
      ]
    },
    {
      "cell_type": "code",
      "source": [
        "# Step 2: Load and Preprocess CIFAR-10 Dataset\n",
        "transform = transforms.Compose(\n",
        "    [transforms.ToTensor(),\n",
        "     transforms.Normalize((0.4914, 0.4822, 0.4465), (0.2023, 0.1994, 0.2010))])\n",
        "\n",
        "trainset = torchvision.datasets.CIFAR10(root='./data', train=True,\n",
        "                                        download=True, transform=transform)\n",
        "trainloader = DataLoader(trainset, batch_size=100, shuffle=True, num_workers=2)\n",
        "\n",
        "testset = torchvision.datasets.CIFAR10(root='./data', train=False,\n",
        "                                       download=True, transform=transform)\n",
        "testloader = DataLoader(testset, batch_size=100, shuffle=False, num_workers=2)\n",
        "\n",
        "classes = ('plane', 'car', 'bird', 'cat', 'deer', 'dog', 'frog', 'horse', 'ship', 'truck')\n"
      ],
      "metadata": {
        "colab": {
          "base_uri": "https://localhost:8080/"
        },
        "id": "YkE-0IHizNqI",
        "outputId": "5b7c4f77-4b92-4cb9-c5d0-e48ec81e0155"
      },
      "execution_count": null,
      "outputs": [
        {
          "output_type": "stream",
          "name": "stdout",
          "text": [
            "Downloading https://www.cs.toronto.edu/~kriz/cifar-10-python.tar.gz to ./data/cifar-10-python.tar.gz\n"
          ]
        },
        {
          "output_type": "stream",
          "name": "stderr",
          "text": [
            "100%|██████████| 170498071/170498071 [00:03<00:00, 43644258.96it/s]\n"
          ]
        },
        {
          "output_type": "stream",
          "name": "stdout",
          "text": [
            "Extracting ./data/cifar-10-python.tar.gz to ./data\n",
            "Files already downloaded and verified\n"
          ]
        }
      ]
    },
    {
      "cell_type": "code",
      "source": [
        "# Step 3: Define the CNN Model\n",
        "class Net(nn.Module):\n",
        "    def __init__(self):\n",
        "        super(Net, self).__init__()\n",
        "        self.conv1 = nn.Conv2d(3, 32, 3, padding=1)\n",
        "        self.conv2 = nn.Conv2d(32, 64, 3, padding=1)\n",
        "        self.pool = nn.MaxPool2d(2, 2)\n",
        "        self.fc1 = nn.Linear(64 * 8 * 8, 512)\n",
        "        self.fc2 = nn.Linear(512, 10)\n",
        "        self.relu = nn.ReLU()\n",
        "\n",
        "    def forward(self, x):\n",
        "        x = self.pool(self.relu(self.conv1(x)))\n",
        "        x = self.pool(self.relu(self.conv2(x)))\n",
        "        x = x.view(-1, 64 * 8 * 8)\n",
        "        x = self.relu(self.fc1(x))\n",
        "        x = self.fc2(x)\n",
        "        return x"
      ],
      "metadata": {
        "id": "0jrEPzn2zSnE"
      },
      "execution_count": null,
      "outputs": []
    },
    {
      "cell_type": "code",
      "source": [
        "net = Net()\n",
        "\n",
        "# Step 4: Specify Loss Function and Optimizer\n",
        "criterion = nn.CrossEntropyLoss()\n",
        "optimizer = optim.Adam(net.parameters(), lr=0.001)\n"
      ],
      "metadata": {
        "id": "BBo6qfoCzdux"
      },
      "execution_count": null,
      "outputs": []
    },
    {
      "cell_type": "code",
      "source": [
        "# Step 5: Train the Model\n",
        "def train_model(net, trainloader, criterion, optimizer, epochs=10):\n",
        "    for epoch in range(epochs):\n",
        "        running_loss = 0.0\n",
        "        for i, data in enumerate(trainloader, 0):\n",
        "            inputs, labels = data\n",
        "            optimizer.zero_grad()\n",
        "            outputs = net(inputs)\n",
        "            loss = criterion(outputs, labels)\n",
        "            loss.backward()\n",
        "            optimizer.step()\n",
        "            running_loss += loss.item()\n",
        "            if i % 100 == 99:\n",
        "                print(f'[Epoch {epoch + 1}, Batch {i + 1}] loss: {running_loss / 100:.3f}')\n",
        "                running_loss = 0.0\n",
        "    print('Finished Training')"
      ],
      "metadata": {
        "id": "ChilJv6YzjaC"
      },
      "execution_count": null,
      "outputs": []
    },
    {
      "cell_type": "code",
      "source": [
        "# Step 6: Evaluate the Model\n",
        "def evaluate_model(net, testloader):\n",
        "    correct = 0\n",
        "    total = 0\n",
        "    with torch.no_grad():\n",
        "        for data in testloader:\n",
        "            images, labels = data\n",
        "            outputs = net(images)\n",
        "            _, predicted = torch.max(outputs, 1)\n",
        "            total += labels.size(0)\n",
        "            correct += (predicted == labels).sum().item()\n",
        "    print(f'Accuracy of the network on the 10000 test images: {100 * correct / total:.2f}%')\n"
      ],
      "metadata": {
        "id": "lv7CbBfvzkPy"
      },
      "execution_count": null,
      "outputs": []
    },
    {
      "cell_type": "code",
      "source": [
        "# Training the model\n",
        "train_model(net, trainloader, criterion, optimizer, epochs=5)\n",
        "\n",
        "# Evaluating the model\n",
        "evaluate_model(net, testloader)\n",
        "\n",
        "# Saving the trained model\n",
        "torch.save(net.state_dict(), 'cifar10_cnn.pth')"
      ],
      "metadata": {
        "colab": {
          "base_uri": "https://localhost:8080/"
        },
        "id": "XbtBmFKAznWg",
        "outputId": "55379d32-b776-4276-e2e8-703ab1f446bf"
      },
      "execution_count": null,
      "outputs": [
        {
          "output_type": "stream",
          "name": "stdout",
          "text": [
            "[Epoch 1, Batch 100] loss: 1.690\n",
            "[Epoch 1, Batch 200] loss: 1.328\n",
            "[Epoch 1, Batch 300] loss: 1.167\n",
            "[Epoch 1, Batch 400] loss: 1.093\n",
            "[Epoch 1, Batch 500] loss: 1.011\n",
            "[Epoch 2, Batch 100] loss: 0.906\n",
            "[Epoch 2, Batch 200] loss: 0.877\n",
            "[Epoch 2, Batch 300] loss: 0.865\n",
            "[Epoch 2, Batch 400] loss: 0.851\n",
            "[Epoch 2, Batch 500] loss: 0.830\n",
            "[Epoch 3, Batch 100] loss: 0.680\n",
            "[Epoch 3, Batch 200] loss: 0.696\n",
            "[Epoch 3, Batch 300] loss: 0.674\n",
            "[Epoch 3, Batch 400] loss: 0.678\n",
            "[Epoch 3, Batch 500] loss: 0.667\n",
            "[Epoch 4, Batch 100] loss: 0.485\n",
            "[Epoch 4, Batch 200] loss: 0.515\n",
            "[Epoch 4, Batch 300] loss: 0.517\n",
            "[Epoch 4, Batch 400] loss: 0.510\n",
            "[Epoch 4, Batch 500] loss: 0.507\n",
            "[Epoch 5, Batch 100] loss: 0.326\n",
            "[Epoch 5, Batch 200] loss: 0.326\n",
            "[Epoch 5, Batch 300] loss: 0.357\n",
            "[Epoch 5, Batch 400] loss: 0.377\n",
            "[Epoch 5, Batch 500] loss: 0.376\n",
            "Finished Training\n",
            "Accuracy of the network on the 10000 test images: 73.74%\n"
          ]
        }
      ]
    }
  ]
}